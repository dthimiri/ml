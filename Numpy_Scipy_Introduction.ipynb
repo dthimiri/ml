{
 "cells": [
  {
   "cell_type": "code",
   "execution_count": 1,
   "metadata": {
    "collapsed": true
   },
   "outputs": [],
   "source": [
    "# numpy and scipy for scientific computations\n",
    "\n",
    "# perform mathematical computations in a grid (matrix)\n",
    "# numpy has many builtin functions to manipulate data\n",
    "\n",
    "import numpy as np\n",
    "import scipy"
   ]
  },
  {
   "cell_type": "code",
   "execution_count": 2,
   "metadata": {},
   "outputs": [
    {
     "name": "stdout",
     "output_type": "stream",
     "text": [
      "[1 2 3 4 5 6]\n",
      "<class 'numpy.ndarray'>\n"
     ]
    }
   ],
   "source": [
    "# Array examples:\n",
    "# 1D array is similar to a list\n",
    "array_1d = np.array([1,2,3,4,5,6])\n",
    "print(array_1d)\n",
    "print(type(array_1d))"
   ]
  },
  {
   "cell_type": "code",
   "execution_count": 3,
   "metadata": {},
   "outputs": [
    {
     "name": "stdout",
     "output_type": "stream",
     "text": [
      "[['a' 'b' 'c']\n",
      " ['1' '2' '3']]\n",
      "<class 'numpy.ndarray'>\n"
     ]
    }
   ],
   "source": [
    "# 2D array\n",
    "array_2d = np.array([['a','b','c'],[1,2,3]])\n",
    "print(array_2d)\n",
    "\n",
    "# type\n",
    "print(type(array_2d))"
   ]
  },
  {
   "cell_type": "code",
   "execution_count": 4,
   "metadata": {},
   "outputs": [
    {
     "name": "stdout",
     "output_type": "stream",
     "text": [
      "(6,)\n",
      "(2, 3)\n"
     ]
    }
   ],
   "source": [
    "# shape - a tuple (no of rows, no of columns)\n",
    "print(array_1d.shape)\n",
    "print(array_2d.shape)"
   ]
  },
  {
   "cell_type": "code",
   "execution_count": 5,
   "metadata": {},
   "outputs": [
    {
     "name": "stdout",
     "output_type": "stream",
     "text": [
      "1\n",
      "['a' 'b' 'c']\n",
      "b\n",
      "3\n"
     ]
    }
   ],
   "source": [
    "# indexing - array index starts with '0' similar to Lists\n",
    "print(array_1d[0])\n",
    "\n",
    "# incase of multi dimensional arrays, we can slice and dice to get any element we want\n",
    "# it works like, array [i] [j]\n",
    "\n",
    "# this will print the first row of the numpy array\n",
    "print(array_2d[0])\n",
    "\n",
    "# this will print the elements in the 0th row and 1st column\n",
    "print(array_2d[0][1])\n",
    "\n",
    "# this will print the elements in the 1st row and 2nd column\n",
    "print(array_2d[1][2])"
   ]
  },
  {
   "cell_type": "code",
   "execution_count": 6,
   "metadata": {},
   "outputs": [
    {
     "name": "stdout",
     "output_type": "stream",
     "text": [
      "[['a' 'b' 'c']\n",
      " ['1' '2' '3']]\n",
      "[['1' '2' '3']]\n",
      "[['b' 'c']\n",
      " ['2' '3']]\n",
      "[['3']]\n"
     ]
    }
   ],
   "source": [
    "# similar to lists we can use : to get a subset of the numpy array\n",
    "print(array_2d)\n",
    "\n",
    "print(array_2d[1:])\n",
    "\n",
    "print(array_2d[:, 1:])\n",
    "\n",
    "print(array_2d[1:,2:])"
   ]
  },
  {
   "cell_type": "code",
   "execution_count": 7,
   "metadata": {},
   "outputs": [
    {
     "name": "stdout",
     "output_type": "stream",
     "text": [
      "[[1 2 3]\n",
      " [4 5 6]\n",
      " [7 8 9]]\n",
      "[1 5 9]\n"
     ]
    }
   ],
   "source": [
    "# integer arrays\n",
    "array1_2d = np.array([[1,2,3],[4,5,6],[7,8,9]])\n",
    "print(array1_2d)\n",
    "# if we want to get elements [0,0] , [1,1], [2,2]\n",
    "# instead of using there 3 separate index statements, we use an array of integers to specify indices\n",
    "subarray = array1_2d[[0,1,2],[0,1,2]]\n",
    "print(subarray)"
   ]
  },
  {
   "cell_type": "code",
   "execution_count": 8,
   "metadata": {},
   "outputs": [
    {
     "name": "stdout",
     "output_type": "stream",
     "text": [
      "[array([False,  True,  True], dtype=bool)]\n"
     ]
    },
    {
     "data": {
      "text/plain": [
       "array([5, 9])"
      ]
     },
     "execution_count": 8,
     "metadata": {},
     "output_type": "execute_result"
    }
   ],
   "source": [
    "# boolean indexing\n",
    "# subsetting the array based on the given condition\n",
    "print([subarray > 4])\n",
    "subarray[subarray>4]"
   ]
  },
  {
   "cell_type": "code",
   "execution_count": 9,
   "metadata": {},
   "outputs": [
    {
     "name": "stdout",
     "output_type": "stream",
     "text": [
      "[[ 0.  0.]\n",
      " [ 0.  0.]] \n",
      " [[0 0]\n",
      " [0 0]] \n",
      " [[1 1 1 1 1]\n",
      " [1 1 1 1 1]\n",
      " [1 1 1 1 1]] \n",
      " [[2 2 2 2 2]\n",
      " [2 2 2 2 2]\n",
      " [2 2 2 2 2]] \n",
      " [[3 3 3 3 3]\n",
      " [3 3 3 3 3]\n",
      " [3 3 3 3 3]] \n",
      " [[ 1.  0.  0.  0.  0.]\n",
      " [ 0.  1.  0.  0.  0.]\n",
      " [ 0.  0.  1.  0.  0.]\n",
      " [ 0.  0.  0.  1.  0.]\n",
      " [ 0.  0.  0.  0.  1.]]\n"
     ]
    }
   ],
   "source": [
    "# creating standard arrays using builtin functions\n",
    "\n",
    "array_zeros = np.zeros((2,2))\n",
    "\n",
    "array1_zeros = np.zeros((2,2),dtype='int64')\n",
    "\n",
    "# creating array of ones\n",
    "array_ones = np.ones((3,5),dtype='int64')\n",
    "\n",
    "# creating array with constant values\n",
    "array_constantvalue_2 = np.full(array_ones.shape, 2)\n",
    "\n",
    "# creating array with constant values\n",
    "array_constantvalue_3 = np.full_like(array_ones, 3)\n",
    "\n",
    "# identity matrix\n",
    "i_matrix = np.eye(5)\n",
    "\n",
    "print (array_zeros, \"\\n\", array1_zeros, \"\\n\", array_ones, \"\\n\"\n",
    "       , array_constantvalue_2, \"\\n\", array_constantvalue_3, \"\\n\", i_matrix)"
   ]
  },
  {
   "cell_type": "code",
   "execution_count": 10,
   "metadata": {},
   "outputs": [
    {
     "data": {
      "text/plain": [
       "array([[ 0.78550114,  0.8074743 ,  0.33712011,  0.07878866,  0.99486834],\n",
       "       [ 0.69812488,  0.74716389,  0.73052002,  0.11337596,  0.05882218],\n",
       "       [ 0.72172251,  0.89124892,  0.28828999,  0.39405262,  0.45046979],\n",
       "       [ 0.75579718,  0.84014197,  0.19294201,  0.34553626,  0.42178699],\n",
       "       [ 0.09073129,  0.74970314,  0.94062487,  0.35106124,  0.61508429]])"
      ]
     },
     "execution_count": 10,
     "metadata": {},
     "output_type": "execute_result"
    }
   ],
   "source": [
    "# creating an array with random numbers\n",
    "array_random = np.random.random((5,5))\n",
    "print(array_random)"
   ]
  },
  {
   "cell_type": "code",
   "execution_count": 23,
   "metadata": {},
   "outputs": [
    {
     "name": "stdout",
     "output_type": "stream",
     "text": [
      "[['a' 'b' 'c']\n",
      " ['1' '2' '3']] \n",
      " [['a' '1']\n",
      " ['b' '2']\n",
      " ['c' '3']]\n",
      "(2, 3) => (3, 2)\n"
     ]
    }
   ],
   "source": [
    "# changing the size and shape of the array\n",
    "array_t = np.transpose(array_2d)\n",
    "print(array_2d, \"\\n\", array_t)\n",
    "print(array_2d.shape, \"=>\", array_t.shape)"
   ]
  },
  {
   "cell_type": "code",
   "execution_count": 25,
   "metadata": {},
   "outputs": [
    {
     "name": "stdout",
     "output_type": "stream",
     "text": [
      "(1, 25)\n"
     ]
    }
   ],
   "source": [
    "array_reshape = np.reshape(array_random, [1,25])\n",
    "print(array_reshape.shape)"
   ]
  },
  {
   "cell_type": "code",
   "execution_count": 26,
   "metadata": {},
   "outputs": [
    {
     "name": "stdout",
     "output_type": "stream",
     "text": [
      "(25, 1)\n"
     ]
    }
   ],
   "source": [
    "array_reshape = np.reshape(array_random, [25,1])\n",
    "print(array_reshape.shape)"
   ]
  },
  {
   "cell_type": "code",
   "execution_count": 30,
   "metadata": {},
   "outputs": [
    {
     "name": "stdout",
     "output_type": "stream",
     "text": [
      "[[4 8 8 3 2]\n",
      " [9 3 4 9 9]\n",
      " [3 6 5 4 1]\n",
      " [4 6 4 9 8]\n",
      " [5 4 4 9 6]] \n",
      " [[ 5  2 16 15 15]\n",
      " [ 5  9 11  8 13]\n",
      " [ 2  3 14 12 16]\n",
      " [ 4 11  5 14  5]\n",
      " [10 15  9 13 12]]\n"
     ]
    }
   ],
   "source": [
    "# Mathematical operations can be performed element wise\n",
    "\n",
    "array1 = np.random.randint(1,10,[5,5])\n",
    "array2 = np.random.randint(1,17,[5,5])\n",
    "print(array1, \"\\n\", array2)"
   ]
  },
  {
   "cell_type": "code",
   "execution_count": 35,
   "metadata": {},
   "outputs": [
    {
     "name": "stdout",
     "output_type": "stream",
     "text": [
      "[[ 9 10 24 18 17]\n",
      " [14 12 15 17 22]\n",
      " [ 5  9 19 16 17]\n",
      " [ 8 17  9 23 13]\n",
      " [15 19 13 22 18]]\n",
      "[[ 9 10 24 18 17]\n",
      " [14 12 15 17 22]\n",
      " [ 5  9 19 16 17]\n",
      " [ 8 17  9 23 13]\n",
      " [15 19 13 22 18]]\n",
      "[[ -1   6  -8 -12 -13]\n",
      " [  4  -6  -7   1  -4]\n",
      " [  1   3  -9  -8 -15]\n",
      " [  0  -5  -1  -5   3]\n",
      " [ -5 -11  -5  -4  -6]]\n"
     ]
    }
   ],
   "source": [
    "# element wise addition\n",
    "print(array1 + array2)\n",
    "\n",
    "# alternatively can be used as\n",
    "print(np.add(array1, array2))\n",
    "print(np.subtract(array1, array2))"
   ]
  },
  {
   "cell_type": "code",
   "execution_count": 46,
   "metadata": {},
   "outputs": [
    {
     "name": "stdout",
     "output_type": "stream",
     "text": [
      "[[4 8 8 3 2]\n",
      " [9 3 4 9 9]\n",
      " [3 6 5 4 1]\n",
      " [4 6 4 9 8]\n",
      " [5 4 4 9 6]]\n",
      "[[ 5  9  9  4  3]\n",
      " [10  4  5 10 10]\n",
      " [ 4  7  6  5  2]\n",
      " [ 5  7  5 10  9]\n",
      " [ 6  5  5 10  7]]\n",
      "[[ 5  9  9  4  3]\n",
      " [10  4  5 10 10]\n",
      " [ 4  7  6  5  2]\n",
      " [ 5  7  5 10  9]\n",
      " [ 6  5  5 10  7]]\n"
     ]
    }
   ],
   "source": [
    "# broadcasting - the ability to add to each row of matirces \n",
    "# arrays needs to be aligned in atleast on dimension\n",
    "\n",
    "array3 = np.array([1,1,1,1,1])\n",
    "print(array1)\n",
    "print(array1 + array3)\n",
    "print(array1 + array3.T)"
   ]
  },
  {
   "cell_type": "code",
   "execution_count": 47,
   "metadata": {},
   "outputs": [
    {
     "data": {
      "text/plain": [
       "array([[108, 167, 297, 288, 331],\n",
       "       [194, 291, 359, 450, 391],\n",
       "       [ 81, 134, 213, 222, 235],\n",
       "       [174, 293, 303, 386, 343],\n",
       "       [149, 247, 279, 359, 308]])"
      ]
     },
     "execution_count": 47,
     "metadata": {},
     "output_type": "execute_result"
    }
   ],
   "source": [
    "# dot product or matrix multiplication\n",
    "# condition to be satisfied only when the dimensions of the arrays are in the following form: m x n => n x m\n",
    "np.dot(array1, array2)"
   ]
  },
  {
   "cell_type": "code",
   "execution_count": 49,
   "metadata": {},
   "outputs": [
    {
     "data": {
      "text/plain": [
       "array([[ 4,  8,  8,  3,  2],\n",
       "       [ 9,  3,  4,  9,  9],\n",
       "       [ 3,  6,  5,  4,  1],\n",
       "       [ 4,  6,  4,  9,  8],\n",
       "       [ 5,  4,  4,  9,  6],\n",
       "       [ 5,  2, 16, 15, 15],\n",
       "       [ 5,  9, 11,  8, 13],\n",
       "       [ 2,  3, 14, 12, 16],\n",
       "       [ 4, 11,  5, 14,  5],\n",
       "       [10, 15,  9, 13, 12]])"
      ]
     },
     "execution_count": 49,
     "metadata": {},
     "output_type": "execute_result"
    }
   ],
   "source": [
    "# merge arrays or stacking them\n",
    "# need to pass the tuple of arrays\n",
    "np.vstack((array1, array2))"
   ]
  },
  {
   "cell_type": "code",
   "execution_count": 50,
   "metadata": {},
   "outputs": [
    {
     "data": {
      "text/plain": [
       "array([[ 4,  8,  8,  3,  2,  5,  2, 16, 15, 15],\n",
       "       [ 9,  3,  4,  9,  9,  5,  9, 11,  8, 13],\n",
       "       [ 3,  6,  5,  4,  1,  2,  3, 14, 12, 16],\n",
       "       [ 4,  6,  4,  9,  8,  4, 11,  5, 14,  5],\n",
       "       [ 5,  4,  4,  9,  6, 10, 15,  9, 13, 12]])"
      ]
     },
     "execution_count": 50,
     "metadata": {},
     "output_type": "execute_result"
    }
   ],
   "source": [
    "np.hstack((array1, array2))"
   ]
  },
  {
   "cell_type": "code",
   "execution_count": 61,
   "metadata": {},
   "outputs": [
    {
     "data": {
      "text/plain": [
       "0.50000000000000011"
      ]
     },
     "execution_count": 61,
     "metadata": {},
     "output_type": "execute_result"
    }
   ],
   "source": [
    "# scipy modules for mathematical computations\n",
    "# spatial module can find the distance between 2 points eg, eucledian, cosine, correlation etc\n",
    "# pdist - pairwise distnace between the rows in a numpy array\n",
    "\n",
    "from scipy.spatial.distance import cosine, pdist, correlation, squareform\n",
    "array1 = np.random.randint(1,5, [1,3])\n",
    "array2 = np.random.randint(1,7, [1,3])\n",
    "\n",
    "correlation(array1, array2)"
   ]
  },
  {
   "cell_type": "code",
   "execution_count": 63,
   "metadata": {},
   "outputs": [
    {
     "name": "stdout",
     "output_type": "stream",
     "text": [
      "[[ 0.          3.16227766]\n",
      " [ 3.16227766  0.        ]] \n",
      " [[ 0.          0.08915993]\n",
      " [ 0.08915993  0.        ]]\n"
     ]
    }
   ],
   "source": [
    "points = np.vstack((array1, array2))\n",
    "points_eu = squareform(pdist(points, 'euclidean'))\n",
    "points_cos = squareform(pdist(points, 'cosine'))\n",
    "\n",
    "print(points_sq, \"\\n\", points_cos)"
   ]
  },
  {
   "cell_type": "code",
   "execution_count": null,
   "metadata": {
    "collapsed": true
   },
   "outputs": [],
   "source": []
  }
 ],
 "metadata": {
  "kernelspec": {
   "display_name": "Python 3",
   "language": "python",
   "name": "python3"
  },
  "language_info": {
   "codemirror_mode": {
    "name": "ipython",
    "version": 3
   },
   "file_extension": ".py",
   "mimetype": "text/x-python",
   "name": "python",
   "nbconvert_exporter": "python",
   "pygments_lexer": "ipython3",
   "version": "3.6.1"
  }
 },
 "nbformat": 4,
 "nbformat_minor": 2
}
