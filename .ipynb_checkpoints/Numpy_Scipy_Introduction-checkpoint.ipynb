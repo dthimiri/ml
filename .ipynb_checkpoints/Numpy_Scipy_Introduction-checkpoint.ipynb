{
 "cells": [
  {
   "cell_type": "code",
   "execution_count": 1,
   "metadata": {
    "collapsed": true
   },
   "outputs": [],
   "source": [
    "# numpy and scipy for scientific computations\n",
    "\n",
    "# perform mathematical computations in a grid (matrix)\n",
    "# numpy has many builtin functions to manipulate data\n",
    "\n",
    "import numpy as np\n",
    "import scipy"
   ]
  },
  {
   "cell_type": "code",
   "execution_count": 2,
   "metadata": {},
   "outputs": [
    {
     "name": "stdout",
     "output_type": "stream",
     "text": [
      "[1 2 3 4 5 6]\n",
      "<class 'numpy.ndarray'>\n"
     ]
    }
   ],
   "source": [
    "# Array examples:\n",
    "# 1D array is similar to a list\n",
    "array_1d = np.array([1,2,3,4,5,6])\n",
    "print(array_1d)\n",
    "print(type(array_1d))"
   ]
  },
  {
   "cell_type": "code",
   "execution_count": 3,
   "metadata": {},
   "outputs": [
    {
     "name": "stdout",
     "output_type": "stream",
     "text": [
      "[['a' 'b' 'c']\n",
      " ['1' '2' '3']]\n",
      "<class 'numpy.ndarray'>\n"
     ]
    }
   ],
   "source": [
    "# 2D array\n",
    "array_2d = np.array([['a','b','c'],[1,2,3]])\n",
    "print(array_2d)\n",
    "\n",
    "# type\n",
    "print(type(array_2d))"
   ]
  },
  {
   "cell_type": "code",
   "execution_count": 4,
   "metadata": {},
   "outputs": [
    {
     "name": "stdout",
     "output_type": "stream",
     "text": [
      "(6,)\n",
      "(2, 3)\n"
     ]
    }
   ],
   "source": [
    "# shape - a tuple (no of rows, no of columns)\n",
    "print(array_1d.shape)\n",
    "print(array_2d.shape)"
   ]
  },
  {
   "cell_type": "code",
   "execution_count": 5,
   "metadata": {},
   "outputs": [
    {
     "name": "stdout",
     "output_type": "stream",
     "text": [
      "1\n",
      "['a' 'b' 'c']\n",
      "b\n",
      "3\n"
     ]
    }
   ],
   "source": [
    "# indexing - array index starts with '0' similar to Lists\n",
    "print(array_1d[0])\n",
    "\n",
    "# incase of multi dimensional arrays, we can slice and dice to get any element we want\n",
    "# it works like, array [i] [j]\n",
    "\n",
    "# this will print the first row of the numpy array\n",
    "print(array_2d[0])\n",
    "\n",
    "# this will print the elements in the 0th row and 1st column\n",
    "print(array_2d[0][1])\n",
    "\n",
    "# this will print the elements in the 1st row and 2nd column\n",
    "print(array_2d[1][2])"
   ]
  },
  {
   "cell_type": "code",
   "execution_count": 6,
   "metadata": {},
   "outputs": [
    {
     "name": "stdout",
     "output_type": "stream",
     "text": [
      "[['a' 'b' 'c']\n",
      " ['1' '2' '3']]\n",
      "[['1' '2' '3']]\n",
      "[['b' 'c']\n",
      " ['2' '3']]\n",
      "[['3']]\n"
     ]
    }
   ],
   "source": [
    "# similar to lists we can use : to get a subset of the numpy array\n",
    "print(array_2d)\n",
    "\n",
    "print(array_2d[1:])\n",
    "\n",
    "print(array_2d[:, 1:])\n",
    "\n",
    "print(array_2d[1:,2:])"
   ]
  },
  {
   "cell_type": "code",
   "execution_count": 7,
   "metadata": {},
   "outputs": [
    {
     "name": "stdout",
     "output_type": "stream",
     "text": [
      "[[1 2 3]\n",
      " [4 5 6]\n",
      " [7 8 9]]\n",
      "[1 5 9]\n"
     ]
    }
   ],
   "source": [
    "# integer arrays\n",
    "array1_2d = np.array([[1,2,3],[4,5,6],[7,8,9]])\n",
    "print(array1_2d)\n",
    "# if we want to get elements [0,0] , [1,1], [2,2]\n",
    "# instead of using there 3 separate index statements, we use an array of integers to specify indices\n",
    "subarray = array1_2d[[0,1,2],[0,1,2]]\n",
    "print(subarray)"
   ]
  },
  {
   "cell_type": "code",
   "execution_count": 8,
   "metadata": {},
   "outputs": [
    {
     "name": "stdout",
     "output_type": "stream",
     "text": [
      "[array([False,  True,  True], dtype=bool)]\n"
     ]
    },
    {
     "data": {
      "text/plain": [
       "array([5, 9])"
      ]
     },
     "execution_count": 8,
     "metadata": {},
     "output_type": "execute_result"
    }
   ],
   "source": [
    "# boolean indexing\n",
    "# subsetting the array based on the given condition\n",
    "print([subarray > 4])\n",
    "subarray[subarray>4]"
   ]
  },
  {
   "cell_type": "code",
   "execution_count": 9,
   "metadata": {},
   "outputs": [
    {
     "name": "stdout",
     "output_type": "stream",
     "text": [
      "[[ 0.  0.]\n",
      " [ 0.  0.]] \n",
      " [[0 0]\n",
      " [0 0]] \n",
      " [[1 1 1 1 1]\n",
      " [1 1 1 1 1]\n",
      " [1 1 1 1 1]] \n",
      " [[2 2 2 2 2]\n",
      " [2 2 2 2 2]\n",
      " [2 2 2 2 2]] \n",
      " [[3 3 3 3 3]\n",
      " [3 3 3 3 3]\n",
      " [3 3 3 3 3]] \n",
      " [[ 1.  0.  0.  0.  0.]\n",
      " [ 0.  1.  0.  0.  0.]\n",
      " [ 0.  0.  1.  0.  0.]\n",
      " [ 0.  0.  0.  1.  0.]\n",
      " [ 0.  0.  0.  0.  1.]]\n"
     ]
    }
   ],
   "source": [
    "# creating standard arrays using builtin functions\n",
    "\n",
    "array_zeros = np.zeros((2,2))\n",
    "\n",
    "array1_zeros = np.zeros((2,2),dtype='int64')\n",
    "\n",
    "# creating array of ones\n",
    "array_ones = np.ones((3,5),dtype='int64')\n",
    "\n",
    "# creating array with constant values\n",
    "array_constantvalue_2 = np.full(array_ones.shape, 2)\n",
    "\n",
    "# creating array with constant values\n",
    "array_constantvalue_3 = np.full_like(array_ones, 3)\n",
    "\n",
    "# identity matrix\n",
    "i_matrix = np.eye(5)\n",
    "\n",
    "print (array_zeros, \"\\n\", array1_zeros, \"\\n\", array_ones, \"\\n\"\n",
    "       , array_constantvalue_2, \"\\n\", array_constantvalue_3, \"\\n\", i_matrix)"
   ]
  },
  {
   "cell_type": "code",
   "execution_count": 10,
   "metadata": {},
   "outputs": [
    {
     "name": "stdout",
     "output_type": "stream",
     "text": [
      "[[ 0.18987992  0.05281291  0.38546632  0.39751724  0.53867534]\n",
      " [ 0.23382933  0.53777605  0.26527885  0.58409977  0.05441301]\n",
      " [ 0.06665216  0.64614621  0.96538645  0.28617158  0.38090234]\n",
      " [ 0.32646778  0.01200539  0.32878002  0.97399995  0.364183  ]\n",
      " [ 0.73932982  0.92823681  0.94851038  0.55811902  0.85602916]]\n"
     ]
    }
   ],
   "source": [
    "# creating an array with random numbers\n",
    "array_random = np.random.random((5,5))\n",
    "print(array_random)"
   ]
  },
  {
   "cell_type": "code",
   "execution_count": 11,
   "metadata": {},
   "outputs": [
    {
     "name": "stdout",
     "output_type": "stream",
     "text": [
      "[['a' 'b' 'c']\n",
      " ['1' '2' '3']] \n",
      " [['a' '1']\n",
      " ['b' '2']\n",
      " ['c' '3']]\n",
      "(2, 3) => (3, 2)\n"
     ]
    }
   ],
   "source": [
    "# changing the size and shape of the array\n",
    "array_t = np.transpose(array_2d)\n",
    "print(array_2d, \"\\n\", array_t)\n",
    "print(array_2d.shape, \"=>\", array_t.shape)"
   ]
  },
  {
   "cell_type": "code",
   "execution_count": 12,
   "metadata": {},
   "outputs": [
    {
     "name": "stdout",
     "output_type": "stream",
     "text": [
      "(1, 25)\n"
     ]
    }
   ],
   "source": [
    "array_reshape = np.reshape(array_random, [1,25])\n",
    "print(array_reshape.shape)"
   ]
  },
  {
   "cell_type": "code",
   "execution_count": 13,
   "metadata": {},
   "outputs": [
    {
     "name": "stdout",
     "output_type": "stream",
     "text": [
      "(25, 1)\n"
     ]
    }
   ],
   "source": [
    "array_reshape = np.reshape(array_random, [25,1])\n",
    "print(array_reshape.shape)"
   ]
  },
  {
   "cell_type": "code",
   "execution_count": 14,
   "metadata": {},
   "outputs": [
    {
     "name": "stdout",
     "output_type": "stream",
     "text": [
      "[[9 1 2 4 2]\n",
      " [1 6 6 8 7]\n",
      " [8 7 7 7 4]\n",
      " [5 6 6 9 1]\n",
      " [7 2 3 8 1]] \n",
      " [[ 5  4  9 15  2]\n",
      " [ 3  6 16 12  9]\n",
      " [11  1  7 11 13]\n",
      " [ 1  6 12 11  7]\n",
      " [ 6 10  9 14 12]]\n"
     ]
    }
   ],
   "source": [
    "# Mathematical operations can be performed element wise\n",
    "\n",
    "array1 = np.random.randint(1,10,[5,5])\n",
    "array2 = np.random.randint(1,17,[5,5])\n",
    "print(array1, \"\\n\", array2)"
   ]
  },
  {
   "cell_type": "code",
   "execution_count": 15,
   "metadata": {},
   "outputs": [
    {
     "name": "stdout",
     "output_type": "stream",
     "text": [
      "[[14  5 11 19  4]\n",
      " [ 4 12 22 20 16]\n",
      " [19  8 14 18 17]\n",
      " [ 6 12 18 20  8]\n",
      " [13 12 12 22 13]]\n",
      "[[14  5 11 19  4]\n",
      " [ 4 12 22 20 16]\n",
      " [19  8 14 18 17]\n",
      " [ 6 12 18 20  8]\n",
      " [13 12 12 22 13]]\n",
      "[[  4  -3  -7 -11   0]\n",
      " [ -2   0 -10  -4  -2]\n",
      " [ -3   6   0  -4  -9]\n",
      " [  4   0  -6  -2  -6]\n",
      " [  1  -8  -6  -6 -11]]\n"
     ]
    }
   ],
   "source": [
    "# element wise addition\n",
    "print(array1 + array2)\n",
    "\n",
    "# alternatively can be used as\n",
    "print(np.add(array1, array2))\n",
    "print(np.subtract(array1, array2))"
   ]
  },
  {
   "cell_type": "code",
   "execution_count": 16,
   "metadata": {},
   "outputs": [
    {
     "name": "stdout",
     "output_type": "stream",
     "text": [
      "[[9 1 2 4 2]\n",
      " [1 6 6 8 7]\n",
      " [8 7 7 7 4]\n",
      " [5 6 6 9 1]\n",
      " [7 2 3 8 1]]\n",
      "[[10  2  3  5  3]\n",
      " [ 2  7  7  9  8]\n",
      " [ 9  8  8  8  5]\n",
      " [ 6  7  7 10  2]\n",
      " [ 8  3  4  9  2]]\n",
      "[[10  2  3  5  3]\n",
      " [ 2  7  7  9  8]\n",
      " [ 9  8  8  8  5]\n",
      " [ 6  7  7 10  2]\n",
      " [ 8  3  4  9  2]]\n"
     ]
    }
   ],
   "source": [
    "# broadcasting - the ability to add to each row of matirces \n",
    "# arrays needs to be aligned in atleast on dimension\n",
    "\n",
    "array3 = np.array([1,1,1,1,1])\n",
    "print(array1)\n",
    "print(array1 + array3)\n",
    "print(array1 + array3.T)"
   ]
  },
  {
   "cell_type": "code",
   "execution_count": 17,
   "metadata": {},
   "outputs": [
    {
     "data": {
      "text/plain": [
       "array([[ 86,  88, 177, 241, 105],\n",
       "       [139, 164, 306, 339, 274],\n",
       "       [169, 163, 353, 414, 267],\n",
       "       [124, 126, 300, 326, 217],\n",
       "       [ 88, 101, 221, 264, 139]])"
      ]
     },
     "execution_count": 17,
     "metadata": {},
     "output_type": "execute_result"
    }
   ],
   "source": [
    "# dot product or matrix multiplication\n",
    "# condition to be satisfied only when the dimensions of the arrays are in the following form: m x n => n x m\n",
    "np.dot(array1, array2)"
   ]
  },
  {
   "cell_type": "code",
   "execution_count": 18,
   "metadata": {},
   "outputs": [
    {
     "data": {
      "text/plain": [
       "array([[ 9,  1,  2,  4,  2],\n",
       "       [ 1,  6,  6,  8,  7],\n",
       "       [ 8,  7,  7,  7,  4],\n",
       "       [ 5,  6,  6,  9,  1],\n",
       "       [ 7,  2,  3,  8,  1],\n",
       "       [ 5,  4,  9, 15,  2],\n",
       "       [ 3,  6, 16, 12,  9],\n",
       "       [11,  1,  7, 11, 13],\n",
       "       [ 1,  6, 12, 11,  7],\n",
       "       [ 6, 10,  9, 14, 12]])"
      ]
     },
     "execution_count": 18,
     "metadata": {},
     "output_type": "execute_result"
    }
   ],
   "source": [
    "# merge arrays or stacking them\n",
    "# need to pass the tuple of arrays\n",
    "np.vstack((array1, array2))"
   ]
  },
  {
   "cell_type": "code",
   "execution_count": 19,
   "metadata": {},
   "outputs": [
    {
     "data": {
      "text/plain": [
       "array([[ 9,  1,  2,  4,  2,  5,  4,  9, 15,  2],\n",
       "       [ 1,  6,  6,  8,  7,  3,  6, 16, 12,  9],\n",
       "       [ 8,  7,  7,  7,  4, 11,  1,  7, 11, 13],\n",
       "       [ 5,  6,  6,  9,  1,  1,  6, 12, 11,  7],\n",
       "       [ 7,  2,  3,  8,  1,  6, 10,  9, 14, 12]])"
      ]
     },
     "execution_count": 19,
     "metadata": {},
     "output_type": "execute_result"
    }
   ],
   "source": [
    "np.hstack((array1, array2))"
   ]
  },
  {
   "cell_type": "code",
   "execution_count": 22,
   "metadata": {},
   "outputs": [
    {
     "data": {
      "text/plain": [
       "1.9819805060619657"
      ]
     },
     "execution_count": 22,
     "metadata": {},
     "output_type": "execute_result"
    }
   ],
   "source": [
    "# scipy modules for mathematical computations\n",
    "# spatial module can find the distance between 2 points eg, eucledian, cosine, correlation etc\n",
    "# pdist - pairwise distnace between the rows in a numpy array\n",
    "\n",
    "from scipy.spatial.distance import cosine, pdist, correlation, squareform\n",
    "array1 = np.random.randint(1,5, [1,3])\n",
    "array2 = np.random.randint(1,7, [1,3])\n",
    "\n",
    "correlation(array1, array2)"
   ]
  },
  {
   "cell_type": "code",
   "execution_count": 21,
   "metadata": {},
   "outputs": [
    {
     "name": "stdout",
     "output_type": "stream",
     "text": [
      "[[ 0.          2.23606798]\n",
      " [ 2.23606798  0.        ]] \n",
      " [[ 0.         0.0741799]\n",
      " [ 0.0741799  0.       ]]\n"
     ]
    }
   ],
   "source": [
    "points = np.vstack((array1, array2))\n",
    "points_eu = squareform(pdist(points, 'euclidean'))\n",
    "points_cos = squareform(pdist(points, 'cosine'))\n",
    "\n",
    "print(points_eu, \"\\n\", points_cos)"
   ]
  },
  {
   "cell_type": "code",
   "execution_count": null,
   "metadata": {
    "collapsed": true
   },
   "outputs": [],
   "source": []
  }
 ],
 "metadata": {
  "kernelspec": {
   "display_name": "Python 3",
   "language": "python",
   "name": "python3"
  },
  "language_info": {
   "codemirror_mode": {
    "name": "ipython",
    "version": 3
   },
   "file_extension": ".py",
   "mimetype": "text/x-python",
   "name": "python",
   "nbconvert_exporter": "python",
   "pygments_lexer": "ipython3",
   "version": "3.6.1"
  }
 },
 "nbformat": 4,
 "nbformat_minor": 2
}
